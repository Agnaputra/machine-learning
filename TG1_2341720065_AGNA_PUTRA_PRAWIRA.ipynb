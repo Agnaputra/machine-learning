{
  "cells": [
    {
      "cell_type": "markdown",
      "metadata": {
        "colab_type": "text",
        "id": "view-in-github"
      },
      "source": [
        "<a href=\"https://colab.research.google.com/github/Agnaputra/machine-learning/blob/main/TG1_2341720065_AGNA_PUTRA_PRAWIRA.ipynb\" target=\"_parent\"><img src=\"https://colab.research.google.com/assets/colab-badge.svg\" alt=\"Open In Colab\"/></a>"
      ]
    },
    {
      "cell_type": "code",
      "execution_count": 3,
      "metadata": {
        "colab": {
          "base_uri": "https://localhost:8080/"
        },
        "id": "hzqGhTnPqMfw",
        "outputId": "71288ff4-fce5-4841-a09d-2ca8500ff69f"
      },
      "outputs": [
        {
          "name": "stdout",
          "output_type": "stream",
          "text": [
            "Requirement already satisfied: pip in c:\\users\\user\\agna\\anaconda3\\lib\\site-packages (25.1)\n",
            "Collecting pip\n",
            "  Using cached pip-25.2-py3-none-any.whl.metadata (4.7 kB)\n",
            "Using cached pip-25.2-py3-none-any.whl (1.8 MB)\n"
          ]
        },
        {
          "name": "stderr",
          "output_type": "stream",
          "text": [
            "ERROR: To modify pip, please run the following command:\n",
            "C:\\Users\\user\\agna\\anaconda3\\python.exe -m pip install --upgrade pip\n"
          ]
        },
        {
          "name": "stdout",
          "output_type": "stream",
          "text": [
            "Requirement already satisfied: pyprep in c:\\users\\user\\agna\\anaconda3\\lib\\site-packages (0.5.0)\n",
            "Requirement already satisfied: scipy in c:\\users\\user\\agna\\anaconda3\\lib\\site-packages (1.15.3)\n",
            "Requirement already satisfied: wandb in c:\\users\\user\\agna\\anaconda3\\lib\\site-packages (0.21.3)\n",
            "Requirement already satisfied: py-ecg-detectors in c:\\users\\user\\agna\\anaconda3\\lib\\site-packages (1.3.5)\n",
            "Requirement already satisfied: mne>=1.3.0 in c:\\users\\user\\agna\\anaconda3\\lib\\site-packages (from pyprep) (1.10.1)\n",
            "Requirement already satisfied: numpy>=1.20.2 in c:\\users\\user\\agna\\anaconda3\\lib\\site-packages (from pyprep) (2.1.3)\n",
            "Requirement already satisfied: psutil>=5.4.3 in c:\\users\\user\\agna\\anaconda3\\lib\\site-packages (from pyprep) (5.9.0)\n",
            "Requirement already satisfied: click>=8.0.1 in c:\\users\\user\\agna\\anaconda3\\lib\\site-packages (from wandb) (8.1.8)\n",
            "Requirement already satisfied: gitpython!=3.1.29,>=1.0.0 in c:\\users\\user\\agna\\anaconda3\\lib\\site-packages (from wandb) (3.1.43)\n",
            "Requirement already satisfied: packaging in c:\\users\\user\\agna\\anaconda3\\lib\\site-packages (from wandb) (24.2)\n",
            "Requirement already satisfied: platformdirs in c:\\users\\user\\agna\\anaconda3\\lib\\site-packages (from wandb) (4.3.7)\n",
            "Requirement already satisfied: protobuf!=4.21.0,!=5.28.0,<7,>=3.19.0 in c:\\users\\user\\agna\\anaconda3\\lib\\site-packages (from wandb) (5.29.3)\n",
            "Requirement already satisfied: pydantic<3 in c:\\users\\user\\agna\\anaconda3\\lib\\site-packages (from wandb) (2.10.3)\n",
            "Requirement already satisfied: pyyaml in c:\\users\\user\\agna\\anaconda3\\lib\\site-packages (from wandb) (6.0.2)\n",
            "Requirement already satisfied: requests<3,>=2.0.0 in c:\\users\\user\\agna\\anaconda3\\lib\\site-packages (from wandb) (2.32.3)\n",
            "Requirement already satisfied: sentry-sdk>=2.0.0 in c:\\users\\user\\agna\\anaconda3\\lib\\site-packages (from wandb) (2.18.0)\n",
            "Requirement already satisfied: typing-extensions<5,>=4.8 in c:\\users\\user\\agna\\anaconda3\\lib\\site-packages (from wandb) (4.12.2)\n",
            "Requirement already satisfied: annotated-types>=0.6.0 in c:\\users\\user\\agna\\anaconda3\\lib\\site-packages (from pydantic<3->wandb) (0.6.0)\n",
            "Requirement already satisfied: pydantic-core==2.27.1 in c:\\users\\user\\agna\\anaconda3\\lib\\site-packages (from pydantic<3->wandb) (2.27.1)\n",
            "Requirement already satisfied: charset-normalizer<4,>=2 in c:\\users\\user\\agna\\anaconda3\\lib\\site-packages (from requests<3,>=2.0.0->wandb) (3.3.2)\n",
            "Requirement already satisfied: idna<4,>=2.5 in c:\\users\\user\\agna\\anaconda3\\lib\\site-packages (from requests<3,>=2.0.0->wandb) (3.7)\n",
            "Requirement already satisfied: urllib3<3,>=1.21.1 in c:\\users\\user\\agna\\anaconda3\\lib\\site-packages (from requests<3,>=2.0.0->wandb) (2.3.0)\n",
            "Requirement already satisfied: certifi>=2017.4.17 in c:\\users\\user\\agna\\anaconda3\\lib\\site-packages (from requests<3,>=2.0.0->wandb) (2025.8.3)\n",
            "Requirement already satisfied: gatspy in c:\\users\\user\\agna\\anaconda3\\lib\\site-packages (from py-ecg-detectors) (0.3)\n",
            "Requirement already satisfied: pathlib2 in c:\\users\\user\\agna\\anaconda3\\lib\\site-packages (from py-ecg-detectors) (2.3.7.post1)\n",
            "Requirement already satisfied: pywavelets in c:\\users\\user\\agna\\anaconda3\\lib\\site-packages (from py-ecg-detectors) (1.8.0)\n",
            "Requirement already satisfied: colorama in c:\\users\\user\\agna\\anaconda3\\lib\\site-packages (from click>=8.0.1->wandb) (0.4.6)\n",
            "Requirement already satisfied: gitdb<5,>=4.0.1 in c:\\users\\user\\agna\\anaconda3\\lib\\site-packages (from gitpython!=3.1.29,>=1.0.0->wandb) (4.0.7)\n",
            "Requirement already satisfied: smmap<5,>=3.0.1 in c:\\users\\user\\agna\\anaconda3\\lib\\site-packages (from gitdb<5,>=4.0.1->gitpython!=3.1.29,>=1.0.0->wandb) (4.0.0)\n",
            "Requirement already satisfied: decorator in c:\\users\\user\\agna\\anaconda3\\lib\\site-packages (from mne>=1.3.0->pyprep) (5.1.1)\n",
            "Requirement already satisfied: jinja2 in c:\\users\\user\\agna\\anaconda3\\lib\\site-packages (from mne>=1.3.0->pyprep) (3.1.6)\n",
            "Requirement already satisfied: lazy-loader>=0.3 in c:\\users\\user\\agna\\anaconda3\\lib\\site-packages (from mne>=1.3.0->pyprep) (0.4)\n",
            "Requirement already satisfied: matplotlib>=3.7 in c:\\users\\user\\agna\\anaconda3\\lib\\site-packages (from mne>=1.3.0->pyprep) (3.10.0)\n",
            "Requirement already satisfied: pooch>=1.5 in c:\\users\\user\\agna\\anaconda3\\lib\\site-packages (from mne>=1.3.0->pyprep) (1.8.2)\n",
            "Requirement already satisfied: tqdm in c:\\users\\user\\agna\\anaconda3\\lib\\site-packages (from mne>=1.3.0->pyprep) (4.67.1)\n",
            "Requirement already satisfied: contourpy>=1.0.1 in c:\\users\\user\\agna\\anaconda3\\lib\\site-packages (from matplotlib>=3.7->mne>=1.3.0->pyprep) (1.3.1)\n",
            "Requirement already satisfied: cycler>=0.10 in c:\\users\\user\\agna\\anaconda3\\lib\\site-packages (from matplotlib>=3.7->mne>=1.3.0->pyprep) (0.11.0)\n",
            "Requirement already satisfied: fonttools>=4.22.0 in c:\\users\\user\\agna\\anaconda3\\lib\\site-packages (from matplotlib>=3.7->mne>=1.3.0->pyprep) (4.55.3)\n",
            "Requirement already satisfied: kiwisolver>=1.3.1 in c:\\users\\user\\agna\\anaconda3\\lib\\site-packages (from matplotlib>=3.7->mne>=1.3.0->pyprep) (1.4.8)\n",
            "Requirement already satisfied: pillow>=8 in c:\\users\\user\\agna\\anaconda3\\lib\\site-packages (from matplotlib>=3.7->mne>=1.3.0->pyprep) (11.1.0)\n",
            "Requirement already satisfied: pyparsing>=2.3.1 in c:\\users\\user\\agna\\anaconda3\\lib\\site-packages (from matplotlib>=3.7->mne>=1.3.0->pyprep) (3.2.0)\n",
            "Requirement already satisfied: python-dateutil>=2.7 in c:\\users\\user\\agna\\anaconda3\\lib\\site-packages (from matplotlib>=3.7->mne>=1.3.0->pyprep) (2.9.0.post0)\n",
            "Requirement already satisfied: six>=1.5 in c:\\users\\user\\agna\\anaconda3\\lib\\site-packages (from python-dateutil>=2.7->matplotlib>=3.7->mne>=1.3.0->pyprep) (1.17.0)\n",
            "Requirement already satisfied: MarkupSafe>=2.0 in c:\\users\\user\\agna\\anaconda3\\lib\\site-packages (from jinja2->mne>=1.3.0->pyprep) (3.0.2)\n",
            "Python: 3.13.5\n",
            "NumPy: 2.1.3\n",
            "SciPy: 1.15.3\n",
            "wandb: 0.21.3\n",
            "PyPREP: 0.5.0\n",
            "py-ecg-detectors Detectors loaded ✔\n"
          ]
        }
      ],
      "source": [
        "# ================================================================\n",
        "# TG1 - Artificial Intelligence Ethics and Environment\n",
        "# Name : AGNA PUTRA PRAWIRA\n",
        "# NIM  : 2341720065\n",
        "# ================================================================\n",
        "\n",
        "# ---------------------------\n",
        "# Part 1: Install Libraries\n",
        "# ---------------------------\n",
        "\n",
        "!pip install --upgrade pip\n",
        "!pip install pyprep scipy wandb py-ecg-detectors\n",
        "\n",
        "import sys, numpy\n",
        "import scipy\n",
        "import wandb\n",
        "import pyprep\n",
        "from ecgdetectors import Detectors\n",
        "\n",
        "print(\"Python:\", sys.version.split()[0])\n",
        "print(\"NumPy:\", numpy.__version__)\n",
        "print(\"SciPy:\", scipy.__version__)\n",
        "print(\"wandb:\", wandb.__version__)\n",
        "print(\"PyPREP:\", pyprep.__version__)\n",
        "print(\"py-ecg-detectors Detectors loaded ✔\")\n"
      ]
    },
    {
      "cell_type": "code",
      "execution_count": 2,
      "metadata": {
        "id": "T-1MZMMtqdU2"
      },
      "outputs": [],
      "source": [
        "# 1. **PyPREP**\n",
        "#    - Library untuk preprocessing sinyal EEG (Electroencephalography).\n",
        "#    - Membantu menghapus artefak seperti noise, kedipan mata, dan gangguan listrik.\n",
        "#    - Penting untuk penelitian Brain-Computer Interface (BCI).\n",
        "\n",
        "# 2. **SciPy**\n",
        "#    - Library fundamental untuk komputasi ilmiah.\n",
        "#    - Memiliki modul statistik, optimisasi, aljabar linear, dan pemrosesan sinyal.\n",
        "#    - Contoh: menghitung integral, transformasi Fourier, filtering sinyal.\n",
        "\n",
        "# 3. **Weights & Biases (wandb)**\n",
        "#    - Platform tracking eksperimen machine learning.\n",
        "#    - Digunakan untuk memantau training model, menyimpan metrik, dan visualisasi.\n",
        "#    - Banyak dipakai pada riset dan proyek industri AI.\n",
        "\n",
        "# 4. **pyECG**\n",
        "#    - Library untuk analisis sinyal ECG (Electrocardiography).\n",
        "#    - Bisa dipakai untuk deteksi detak jantung, variabilitas, dan ekstraksi fitur.\n",
        "#    - ⚠️ Jika gagal dipasang, bisa gunakan `wfdb` sebagai pengganti karena menyediakan dataset ECG, plotting, dan analisis sinyal.\n",
        "\n",
        "\n",
        "# ### 🚫 Contoh Pelanggaran Etika & Hukum dalam AI\n",
        "# 1. **Deepfake untuk Penipuan**\n",
        "#    - Membuat video/audio palsu untuk menyebarkan hoaks atau penipuan.\n",
        "#    - Melanggar hukum karena bisa digunakan untuk *identity fraud*.\n",
        "#    - Referensi: Chesney & Citron (2019), *Deep Fakes: A Looming Challenge for Privacy, Democracy, and National Security*.\n",
        "\n",
        "# 2. **Diskriminasi Algoritmik**\n",
        "#    - AI rekrutmen yang bias terhadap gender/ras.\n",
        "#    - Contoh: Amazon (2018) menghentikan sistem rekrutmen AI yang bias pada pelamar perempuan.\n",
        "#    - Referensi: Reuters (2018), *Amazon scraps secret AI recruiting tool that showed bias against women*.\n",
        "\n",
        "# 3. **Pelanggaran Privasi Data**\n",
        "#    - Menggunakan data pribadi tanpa izin (misalnya dari media sosial).\n",
        "#    - Melanggar GDPR (General Data Protection Regulation).\n",
        "#    - Referensi: Voigt & Von dem Bussche (2017), *The EU General Data Protection Regulation (GDPR)*.\n",
        "\n",
        "\n",
        "# ### 🌍 Dampak Energi & Lingkungan dari AI\n",
        "# 1. **Konsumsi Energi Tinggi**\n",
        "#    - Training model AI skala besar (misalnya GPT-3) memerlukan **jutaan kWh energi**.\n",
        "#    - Emisi karbon setara dengan penerbangan internasional pulang-pergi.\n",
        "#    - Referensi: Strubell et al. (2019), *Energy and Policy Considerations for Deep Learning in NLP*.\n",
        "\n",
        "# 2. **Pemakaian Hardware**\n",
        "#    - GPU/TPU memerlukan material langka (lithium, cobalt).\n",
        "#    - Penambangan material menyebabkan kerusakan ekosistem dan limbah elektronik.\n",
        "\n",
        "\n",
        "# ### ✅ Cara Mengatasinya (Opini Pribadi)\n",
        "# - Gunakan **model AI efisien** (distillation, quantization).\n",
        "# - Terapkan **energi terbarukan** di pusat data AI.\n",
        "# - Dorong **riset Green AI** agar ramah lingkungan.\n",
        "# - Transparansi perusahaan tentang jejak karbon AI.\n",
        "\n",
        "\n",
        "# ### 📚 Daftar Referensi\n",
        "# - Chesney, R., & Citron, D. (2019). *Deep Fakes: A Looming Challenge for Privacy, Democracy, and National Security*.\n",
        "# - Reuters (2018). *Amazon scraps secret AI recruiting tool that showed bias against women*.\n",
        "# - Voigt, P., & Von dem Bussche, A. (2017). *The EU General Data Protection Regulation (GDPR)*.\n",
        "# - Strubell, E., Ganesh, A., & McCallum, A. (2019). *Energy and Policy Considerations for Deep Learning in NLP*.\n"
      ]
    }
  ],
  "metadata": {
    "colab": {
      "authorship_tag": "ABX9TyMYEEkORtVjZqV18sP30C+F",
      "include_colab_link": true,
      "provenance": []
    },
    "kernelspec": {
      "display_name": "base",
      "language": "python",
      "name": "python3"
    },
    "language_info": {
      "codemirror_mode": {
        "name": "ipython",
        "version": 3
      },
      "file_extension": ".py",
      "mimetype": "text/x-python",
      "name": "python",
      "nbconvert_exporter": "python",
      "pygments_lexer": "ipython3",
      "version": "3.13.5"
    }
  },
  "nbformat": 4,
  "nbformat_minor": 0
}
