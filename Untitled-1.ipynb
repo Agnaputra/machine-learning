{
  "cells": [
    {
      "cell_type": "code",
      "execution_count": 1,
      "id": "5586e346",
      "metadata": {
        "id": "5586e346",
        "outputId": "b2546550-97b5-4f88-c9bd-8b0a3453ae3f",
        "colab": {
          "base_uri": "https://localhost:8080/"
        }
      },
      "outputs": [
        {
          "output_type": "stream",
          "name": "stdout",
          "text": [
            "Hello, Machine Learning!\n"
          ]
        }
      ],
      "source": [
        "# Praktikum 1\n",
        "# Testing Python in Jupyter Notebook\n",
        "\n",
        "print(\"Hello, Machine Learning!\")\n"
      ]
    }
  ],
  "metadata": {
    "kernelspec": {
      "display_name": "base",
      "language": "python",
      "name": "python3"
    },
    "language_info": {
      "codemirror_mode": {
        "name": "ipython",
        "version": 3
      },
      "file_extension": ".py",
      "mimetype": "text/x-python",
      "name": "python",
      "nbconvert_exporter": "python",
      "pygments_lexer": "ipython3",
      "version": "3.13.5"
    },
    "colab": {
      "provenance": []
    }
  },
  "nbformat": 4,
  "nbformat_minor": 5
}